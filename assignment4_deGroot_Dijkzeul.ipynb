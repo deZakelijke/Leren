{
 "cells": [
  {
   "cell_type": "markdown",
   "metadata": {},
   "source": [
    "# Leren: Programming assignment 4\n",
    "** This assignment can be done in teams of 2 **\n",
    "\n",
    "**Student 1:**  <span style=\"color:red\">de Groot</span> (<span style=\"color:red\">10434410</span>)<br>\n",
    "**Student 2:** <span style=\"color:red\"> Dijkzeul</span> (<span style=\"color:red\">10554386</span>)<br>\n",
    "\n",
    "-----------------------------------\n",
    "You may want to use parts of your code from the previous assignment(s) as a starting point for this assignment. \n",
    "\n",
    "The code you hand-in should follow the structure from this document. Write down your functions in the cells they belong to. Note that the structure corresponds with the structure from the actual programming assignment. Make sure you read this for the full explanation of what is expected of you. \n",
    "\n",
    "**Submission:**\n",
    "\n",
    "* Make sure your code can be run from top to bottom without errors.\n",
    "* Include your data files in the zip file.\n",
    "* Comment your code\n",
    "\n",
    "One way be sure you code can be run without errors is by quiting iPython completely and then restart iPython and run all cells again (you can do this by going to the menu bar above: Cell > Run all). This way you make sure that no old definitions of functions or values of variables are left (that your program might still be using).\n",
    "\n",
    "-----------------------------------\n",
    "\n",
    "If you have any questions ask your teaching assistent. We are here for you.\n",
    "\n",
    "-----------------------------------"
   ]
  },
  {
   "cell_type": "markdown",
   "metadata": {},
   "source": [
    "## K-nearest neighbour\n",
    "\n",
    "a)"
   ]
  },
  {
   "cell_type": "code",
   "execution_count": 1,
   "metadata": {
    "collapsed": false,
    "scrolled": true
   },
   "outputs": [
    {
     "data": {
      "text/html": [
       "<div>\n",
       "<table border=\"1\" class=\"dataframe\">\n",
       "  <thead>\n",
       "    <tr style=\"text-align: right;\">\n",
       "      <th></th>\n",
       "      <th>0</th>\n",
       "      <th>1</th>\n",
       "      <th>2</th>\n",
       "      <th>3</th>\n",
       "      <th>4</th>\n",
       "      <th>5</th>\n",
       "      <th>6</th>\n",
       "      <th>7</th>\n",
       "      <th>8</th>\n",
       "      <th>9</th>\n",
       "      <th>...</th>\n",
       "      <th>55</th>\n",
       "      <th>56</th>\n",
       "      <th>57</th>\n",
       "      <th>58</th>\n",
       "      <th>59</th>\n",
       "      <th>60</th>\n",
       "      <th>61</th>\n",
       "      <th>62</th>\n",
       "      <th>63</th>\n",
       "      <th>64</th>\n",
       "    </tr>\n",
       "  </thead>\n",
       "  <tbody>\n",
       "    <tr>\n",
       "      <th>0</th>\n",
       "      <td>0</td>\n",
       "      <td>0</td>\n",
       "      <td>1</td>\n",
       "      <td>11</td>\n",
       "      <td>15</td>\n",
       "      <td>8</td>\n",
       "      <td>0</td>\n",
       "      <td>0</td>\n",
       "      <td>0</td>\n",
       "      <td>0</td>\n",
       "      <td>...</td>\n",
       "      <td>0</td>\n",
       "      <td>0</td>\n",
       "      <td>0</td>\n",
       "      <td>2</td>\n",
       "      <td>15</td>\n",
       "      <td>15</td>\n",
       "      <td>3</td>\n",
       "      <td>0</td>\n",
       "      <td>0</td>\n",
       "      <td>1</td>\n",
       "    </tr>\n",
       "    <tr>\n",
       "      <th>1</th>\n",
       "      <td>0</td>\n",
       "      <td>0</td>\n",
       "      <td>4</td>\n",
       "      <td>10</td>\n",
       "      <td>11</td>\n",
       "      <td>4</td>\n",
       "      <td>0</td>\n",
       "      <td>0</td>\n",
       "      <td>0</td>\n",
       "      <td>1</td>\n",
       "      <td>...</td>\n",
       "      <td>0</td>\n",
       "      <td>0</td>\n",
       "      <td>0</td>\n",
       "      <td>5</td>\n",
       "      <td>12</td>\n",
       "      <td>12</td>\n",
       "      <td>12</td>\n",
       "      <td>1</td>\n",
       "      <td>0</td>\n",
       "      <td>1</td>\n",
       "    </tr>\n",
       "    <tr>\n",
       "      <th>2</th>\n",
       "      <td>0</td>\n",
       "      <td>0</td>\n",
       "      <td>5</td>\n",
       "      <td>14</td>\n",
       "      <td>12</td>\n",
       "      <td>5</td>\n",
       "      <td>0</td>\n",
       "      <td>0</td>\n",
       "      <td>0</td>\n",
       "      <td>0</td>\n",
       "      <td>...</td>\n",
       "      <td>0</td>\n",
       "      <td>0</td>\n",
       "      <td>0</td>\n",
       "      <td>7</td>\n",
       "      <td>13</td>\n",
       "      <td>16</td>\n",
       "      <td>8</td>\n",
       "      <td>0</td>\n",
       "      <td>0</td>\n",
       "      <td>1</td>\n",
       "    </tr>\n",
       "    <tr>\n",
       "      <th>3</th>\n",
       "      <td>0</td>\n",
       "      <td>0</td>\n",
       "      <td>14</td>\n",
       "      <td>10</td>\n",
       "      <td>0</td>\n",
       "      <td>0</td>\n",
       "      <td>0</td>\n",
       "      <td>0</td>\n",
       "      <td>0</td>\n",
       "      <td>0</td>\n",
       "      <td>...</td>\n",
       "      <td>0</td>\n",
       "      <td>0</td>\n",
       "      <td>0</td>\n",
       "      <td>12</td>\n",
       "      <td>16</td>\n",
       "      <td>16</td>\n",
       "      <td>16</td>\n",
       "      <td>16</td>\n",
       "      <td>9</td>\n",
       "      <td>1</td>\n",
       "    </tr>\n",
       "    <tr>\n",
       "      <th>4</th>\n",
       "      <td>0</td>\n",
       "      <td>0</td>\n",
       "      <td>5</td>\n",
       "      <td>12</td>\n",
       "      <td>10</td>\n",
       "      <td>4</td>\n",
       "      <td>0</td>\n",
       "      <td>0</td>\n",
       "      <td>0</td>\n",
       "      <td>0</td>\n",
       "      <td>...</td>\n",
       "      <td>0</td>\n",
       "      <td>0</td>\n",
       "      <td>0</td>\n",
       "      <td>8</td>\n",
       "      <td>12</td>\n",
       "      <td>12</td>\n",
       "      <td>4</td>\n",
       "      <td>0</td>\n",
       "      <td>0</td>\n",
       "      <td>1</td>\n",
       "    </tr>\n",
       "  </tbody>\n",
       "</table>\n",
       "<p>5 rows × 65 columns</p>\n",
       "</div>"
      ],
      "text/plain": [
       "   0   1   2   3   4   5   6   7   8   9  ...  55  56  57  58  59  60  61  62  \\\n",
       "0   0   0   1  11  15   8   0   0   0   0 ...   0   0   0   2  15  15   3   0   \n",
       "1   0   0   4  10  11   4   0   0   0   1 ...   0   0   0   5  12  12  12   1   \n",
       "2   0   0   5  14  12   5   0   0   0   0 ...   0   0   0   7  13  16   8   0   \n",
       "3   0   0  14  10   0   0   0   0   0   0 ...   0   0   0  12  16  16  16  16   \n",
       "4   0   0   5  12  10   4   0   0   0   0 ...   0   0   0   8  12  12   4   0   \n",
       "\n",
       "   63  64  \n",
       "0   0   1  \n",
       "1   0   1  \n",
       "2   0   1  \n",
       "3   9   1  \n",
       "4   0   1  \n",
       "\n",
       "[5 rows x 65 columns]"
      ]
     },
     "execution_count": 1,
     "metadata": {},
     "output_type": "execute_result"
    }
   ],
   "source": [
    "import pandas as pd\n",
    "import numpy as np\n",
    "import math\n",
    "\n",
    "Training = pd.read_csv('digist123-1.csv', sep=\";\", header=None)\n",
    "Test = pd.read_csv('digist123-2.csv', sep=\";\", header=None)\n",
    "\n",
    "# Make the pandas dataframes numpy arrays\n",
    "TrainingNpArray = np.array(Training)\n",
    "TestNpArray = np.array(Test)\n",
    "\n",
    "Training.head()"
   ]
  },
  {
   "cell_type": "code",
   "execution_count": 2,
   "metadata": {
    "collapsed": false
   },
   "outputs": [
    {
     "data": {
      "text/html": [
       "<div>\n",
       "<table border=\"1\" class=\"dataframe\">\n",
       "  <thead>\n",
       "    <tr style=\"text-align: right;\">\n",
       "      <th></th>\n",
       "      <th>0</th>\n",
       "      <th>1</th>\n",
       "      <th>2</th>\n",
       "      <th>3</th>\n",
       "      <th>4</th>\n",
       "      <th>5</th>\n",
       "      <th>6</th>\n",
       "      <th>7</th>\n",
       "      <th>8</th>\n",
       "      <th>9</th>\n",
       "      <th>...</th>\n",
       "      <th>55</th>\n",
       "      <th>56</th>\n",
       "      <th>57</th>\n",
       "      <th>58</th>\n",
       "      <th>59</th>\n",
       "      <th>60</th>\n",
       "      <th>61</th>\n",
       "      <th>62</th>\n",
       "      <th>63</th>\n",
       "      <th>64</th>\n",
       "    </tr>\n",
       "  </thead>\n",
       "  <tbody>\n",
       "    <tr>\n",
       "      <th>0</th>\n",
       "      <td>0</td>\n",
       "      <td>0</td>\n",
       "      <td>0</td>\n",
       "      <td>12</td>\n",
       "      <td>13</td>\n",
       "      <td>5</td>\n",
       "      <td>0</td>\n",
       "      <td>0</td>\n",
       "      <td>0</td>\n",
       "      <td>0</td>\n",
       "      <td>...</td>\n",
       "      <td>0</td>\n",
       "      <td>0</td>\n",
       "      <td>0</td>\n",
       "      <td>0</td>\n",
       "      <td>11</td>\n",
       "      <td>16</td>\n",
       "      <td>10</td>\n",
       "      <td>0</td>\n",
       "      <td>0</td>\n",
       "      <td>1</td>\n",
       "    </tr>\n",
       "    <tr>\n",
       "      <th>1</th>\n",
       "      <td>0</td>\n",
       "      <td>0</td>\n",
       "      <td>0</td>\n",
       "      <td>0</td>\n",
       "      <td>14</td>\n",
       "      <td>13</td>\n",
       "      <td>1</td>\n",
       "      <td>0</td>\n",
       "      <td>0</td>\n",
       "      <td>0</td>\n",
       "      <td>...</td>\n",
       "      <td>0</td>\n",
       "      <td>0</td>\n",
       "      <td>0</td>\n",
       "      <td>0</td>\n",
       "      <td>1</td>\n",
       "      <td>13</td>\n",
       "      <td>16</td>\n",
       "      <td>1</td>\n",
       "      <td>0</td>\n",
       "      <td>1</td>\n",
       "    </tr>\n",
       "    <tr>\n",
       "      <th>2</th>\n",
       "      <td>0</td>\n",
       "      <td>0</td>\n",
       "      <td>0</td>\n",
       "      <td>2</td>\n",
       "      <td>16</td>\n",
       "      <td>16</td>\n",
       "      <td>2</td>\n",
       "      <td>0</td>\n",
       "      <td>0</td>\n",
       "      <td>0</td>\n",
       "      <td>...</td>\n",
       "      <td>0</td>\n",
       "      <td>0</td>\n",
       "      <td>0</td>\n",
       "      <td>0</td>\n",
       "      <td>2</td>\n",
       "      <td>12</td>\n",
       "      <td>15</td>\n",
       "      <td>4</td>\n",
       "      <td>0</td>\n",
       "      <td>1</td>\n",
       "    </tr>\n",
       "    <tr>\n",
       "      <th>3</th>\n",
       "      <td>0</td>\n",
       "      <td>0</td>\n",
       "      <td>0</td>\n",
       "      <td>0</td>\n",
       "      <td>12</td>\n",
       "      <td>5</td>\n",
       "      <td>0</td>\n",
       "      <td>0</td>\n",
       "      <td>0</td>\n",
       "      <td>0</td>\n",
       "      <td>...</td>\n",
       "      <td>0</td>\n",
       "      <td>0</td>\n",
       "      <td>0</td>\n",
       "      <td>0</td>\n",
       "      <td>3</td>\n",
       "      <td>16</td>\n",
       "      <td>8</td>\n",
       "      <td>0</td>\n",
       "      <td>0</td>\n",
       "      <td>1</td>\n",
       "    </tr>\n",
       "    <tr>\n",
       "      <th>4</th>\n",
       "      <td>0</td>\n",
       "      <td>0</td>\n",
       "      <td>0</td>\n",
       "      <td>1</td>\n",
       "      <td>11</td>\n",
       "      <td>9</td>\n",
       "      <td>0</td>\n",
       "      <td>0</td>\n",
       "      <td>0</td>\n",
       "      <td>0</td>\n",
       "      <td>...</td>\n",
       "      <td>0</td>\n",
       "      <td>0</td>\n",
       "      <td>0</td>\n",
       "      <td>0</td>\n",
       "      <td>2</td>\n",
       "      <td>14</td>\n",
       "      <td>6</td>\n",
       "      <td>0</td>\n",
       "      <td>0</td>\n",
       "      <td>1</td>\n",
       "    </tr>\n",
       "  </tbody>\n",
       "</table>\n",
       "<p>5 rows × 65 columns</p>\n",
       "</div>"
      ],
      "text/plain": [
       "   0   1   2   3   4   5   6   7   8   9  ...  55  56  57  58  59  60  61  62  \\\n",
       "0   0   0   0  12  13   5   0   0   0   0 ...   0   0   0   0  11  16  10   0   \n",
       "1   0   0   0   0  14  13   1   0   0   0 ...   0   0   0   0   1  13  16   1   \n",
       "2   0   0   0   2  16  16   2   0   0   0 ...   0   0   0   0   2  12  15   4   \n",
       "3   0   0   0   0  12   5   0   0   0   0 ...   0   0   0   0   3  16   8   0   \n",
       "4   0   0   0   1  11   9   0   0   0   0 ...   0   0   0   0   2  14   6   0   \n",
       "\n",
       "   63  64  \n",
       "0   0   1  \n",
       "1   0   1  \n",
       "2   0   1  \n",
       "3   0   1  \n",
       "4   0   1  \n",
       "\n",
       "[5 rows x 65 columns]"
      ]
     },
     "execution_count": 2,
     "metadata": {},
     "output_type": "execute_result"
    }
   ],
   "source": [
    "Test.head()"
   ]
  },
  {
   "cell_type": "code",
   "execution_count": 3,
   "metadata": {
    "collapsed": true
   },
   "outputs": [],
   "source": [
    "# Measure euclideanDistance\n",
    "def euclideanDistance(vector1, vector2, length):\n",
    "    distance = 0\n",
    "    for x in range(length):\n",
    "        distance += pow((vector1[x] - vector2[x]), 2)\n",
    "    return math.sqrt(distance)\n"
   ]
  },
  {
   "cell_type": "code",
   "execution_count": 4,
   "metadata": {
    "collapsed": false
   },
   "outputs": [
    {
     "name": "stdout",
     "output_type": "stream",
     "text": [
      "[(array([ 0,  0,  1, 11, 14,  5,  0,  0,  0,  0,  0, 15, 16, 11,  0,  0,  0,\n",
      "        0,  5, 16, 16,  8,  0,  0,  0,  0,  5, 16, 16,  5,  0,  0,  0,  0,\n",
      "        4, 16, 16,  3,  0,  0,  0,  0,  9, 16, 16,  2,  0,  0,  0,  0,  8,\n",
      "       16, 14,  0,  0,  0,  0,  0,  2, 13, 16,  9,  0,  0,  1]), 19.4164878389476), (array([ 0,  0,  3, 15, 12,  2,  0,  0,  0,  0,  1, 16, 16,  6,  0,  0,  0,\n",
      "        0,  4, 16, 16,  2,  0,  0,  0,  0,  3, 16, 16,  6,  0,  0,  0,  0,\n",
      "        4, 16, 16,  0,  0,  0,  0,  0,  1, 15, 16,  6,  0,  0,  0,  0,  4,\n",
      "       16, 16,  4,  0,  0,  0,  0,  4, 16, 16,  6,  0,  0,  1]), 19.467922333931785)]\n"
     ]
    }
   ],
   "source": [
    "# Function to find all nearest neighbours\n",
    "def findNeighbours(trainingSet, testVector, k):\n",
    "    distances = []\n",
    "    for idx,x in enumerate(trainingSet):\n",
    "        distance = euclideanDistance(trainingSet[idx], testVector, len(testVector)-1)\n",
    "        distances.append((distance, idx))    \n",
    "    sortedDistances = sorted(distances)\n",
    "    neighbours = []\n",
    "    for i in xrange(0, k):\n",
    "        neighbours.append((trainingSet[sortedDistances[i][-1]],sortedDistances[i][0]))        \n",
    "    return neighbours    \n",
    "        \n",
    "neighbours = findNeighbours(TrainingNpArray, TestNpArray[0], 2)\n",
    "print(neighbours)"
   ]
  },
  {
   "cell_type": "code",
   "execution_count": 5,
   "metadata": {
    "collapsed": false,
    "scrolled": true
   },
   "outputs": [
    {
     "data": {
      "text/plain": [
       "1"
      ]
     },
     "execution_count": 5,
     "metadata": {},
     "output_type": "execute_result"
    }
   ],
   "source": [
    "# same weigth for every vote\n",
    "import operator\n",
    "def getClass(neighbours):\n",
    "    classes = {}\n",
    "    for x in neighbours:\n",
    "        i = x[0][-1]\n",
    "        if i in classes:\n",
    "            classes[i] += 1\n",
    "        else:\n",
    "            classes[i] = 1\n",
    "    sortedClasses = sorted(classes.iteritems(), key=operator.itemgetter(1), reverse=True)\n",
    "    return sortedClasses[0][0]\n",
    "getClass(neighbours)"
   ]
  },
  {
   "cell_type": "code",
   "execution_count": 6,
   "metadata": {
    "collapsed": false
   },
   "outputs": [],
   "source": [
    "# Measure accuracy\n",
    "\n",
    "def testAccuracy(tests, predicts): \n",
    "    correct = 0\n",
    "    for x in range(len(tests)):\n",
    "        if tests[x][-1] == predicts[x]:\n",
    "            correct += 1\n",
    "    return (correct/float(len(tests))) * 100.0"
   ]
  },
  {
   "cell_type": "code",
   "execution_count": 7,
   "metadata": {
    "collapsed": false,
    "scrolled": true
   },
   "outputs": [
    {
     "name": "stdout",
     "output_type": "stream",
     "text": [
      "K nearest neighbour accuracy: 97.9166666667\n"
     ]
    }
   ],
   "source": [
    "# Measure the accuracy over the entire testSet\n",
    "testSet = []\n",
    "predicts = []\n",
    "# set k\n",
    "k = 9\n",
    "for i in range(len(TestNpArray)):\n",
    "    test = TestNpArray[i]\n",
    "    testSet.append(test)\n",
    "    testNeighbours = findNeighbours(TrainingNpArray, test, k)\n",
    "    predicts.append(getClass(testNeighbours))\n",
    "print(\"K nearest neighbour accuracy: %s\" %testAccuracy(testSet,predicts))\n",
    "\n"
   ]
  },
  {
   "cell_type": "markdown",
   "metadata": {},
   "source": [
    "B)"
   ]
  },
  {
   "cell_type": "code",
   "execution_count": 8,
   "metadata": {
    "collapsed": false
   },
   "outputs": [
    {
     "data": {
      "text/plain": [
       "1"
      ]
     },
     "execution_count": 8,
     "metadata": {},
     "output_type": "execute_result"
    }
   ],
   "source": [
    "# Count all the classes and sum all the distances of one class\n",
    "# Then take the mean of the classes and select the one with the lowest\n",
    "# distance\n",
    "from collections import defaultdict\n",
    "import operator\n",
    "def getClassWeigth(neighbours):\n",
    "    classesDistance = defaultdict(float)    \n",
    "    classesCount = defaultdict(int)    \n",
    "    for x in neighbours:\n",
    "        classesDistance[x[0][-1]] += x[1]\n",
    "        classesCount[x[0][-1]] += 1\n",
    "    classesList = []\n",
    "    for keys in classesCount:\n",
    "        classesList.append(((classesDistance[keys]/classesCount[keys]),keys ))\n",
    "    return(sorted(classesList)[0][-1])\n",
    "getClass(neighbours)"
   ]
  },
  {
   "cell_type": "code",
   "execution_count": 9,
   "metadata": {
    "collapsed": false
   },
   "outputs": [
    {
     "name": "stdout",
     "output_type": "stream",
     "text": [
      "Class weight accuracy: 99.1666666667\n"
     ]
    }
   ],
   "source": [
    "testSet = []\n",
    "predicts = []\n",
    "# set the K\n",
    "k = 9\n",
    "for i in range(len(TestNpArray)):\n",
    "    test = TestNpArray[i]\n",
    "    testSet.append(test)\n",
    "    testNeighbours = findNeighbours(TrainingNpArray, test, k)\n",
    "    predicts.append(getClassWeigth(testNeighbours))\n",
    "print(\"Class weight accuracy: %s\" %testAccuracy(testSet,predicts))\n"
   ]
  },
  {
   "cell_type": "markdown",
   "metadata": {},
   "source": [
    "C)"
   ]
  },
  {
   "cell_type": "markdown",
   "metadata": {},
   "source": [
    "2 A)"
   ]
  },
  {
   "cell_type": "code",
   "execution_count": 10,
   "metadata": {
    "collapsed": true
   },
   "outputs": [],
   "source": [
    "#Accuracy\n",
    "\n",
    "def testAccuracySklearn(tests, predicts): \n",
    "    correct = 0\n",
    "    for x in range(len(tests)):\n",
    "        if tests[x] == predicts[x]:\n",
    "            correct += 1\n",
    "    return (correct/float(len(tests))) * 100.0"
   ]
  },
  {
   "cell_type": "code",
   "execution_count": 11,
   "metadata": {
    "collapsed": false
   },
   "outputs": [
    {
     "name": "stdout",
     "output_type": "stream",
     "text": [
      "K nearest neighbour accuracy: 97.9166666667\n",
      "Neural network accuracy: 96.25\n",
      "Logistic regression accuracy: 96.25\n"
     ]
    }
   ],
   "source": [
    "from sklearn.neighbors import KNeighborsClassifier\n",
    "from sklearn.neural_network import MLPClassifier\n",
    "from sklearn.linear_model import LogisticRegression\n",
    "\n",
    "classifierKNN = KNeighborsClassifier(n_neighbors=5)\n",
    "    \n",
    "classifierKNN.fit(TrainingNpArray[:,:-1], TrainingNpArray[:,-1])\n",
    "\n",
    "\n",
    "classifierMLPC = MLPClassifier(alpha=1, max_iter=1000)\n",
    "    \n",
    "classifierMLPC.fit(TrainingNpArray[:,:-1], TrainingNpArray[:,-1])\n",
    "\n",
    "\n",
    "logisticRegression = LogisticRegression(C=1.0)\n",
    "    \n",
    "logisticRegression.fit(TrainingNpArray[:,:-1], TrainingNpArray[:,-1])\n",
    "\n",
    "# predict the test values using the classifiers\n",
    "\n",
    "predictedKNN = classifierKNN.predict(TestNpArray[:,:-1])\n",
    "\n",
    "predictedMLPC = classifierMLPC.predict(TestNpArray[:,:-1])\n",
    "\n",
    "predictedLR = logisticRegression.predict(TestNpArray[:,:-1])\n",
    "\n",
    "\n",
    "print(\"K nearest neighbour accuracy: %s\" %testAccuracySklearn(predictedKNN, TestNpArray[:,-1]))\n",
    "\n",
    "print(\"Neural network accuracy: %s\" %testAccuracySklearn(predictedMLPC, TestNpArray[:,-1]))\n",
    "\n",
    "print(\"Logistic regression accuracy: %s\" %testAccuracySklearn(predictedLR, TestNpArray[:,-1]))\n",
    "   "
   ]
  },
  {
   "cell_type": "code",
   "execution_count": 12,
   "metadata": {
    "collapsed": false
   },
   "outputs": [],
   "source": [
    "# this is the new algorithm, it is a combination of all the algorithms \n",
    "# previously mentioned\n",
    "def ensemble(testData):\n",
    "    predictedKNN = classifierKNN.predict(testData)\n",
    "    predictedMLPC = classifierMLPC.predict(testData)\n",
    "    if predictedKNN == predictedMLPC:\n",
    "        return predictedKNN[0]\n",
    "    else:\n",
    "        predictedLR = logisticRegression.predict(testData)\n",
    "        if predictedLR == predictedKNN:\n",
    "            return predictedKNN[0]\n",
    "        else:\n",
    "            return predictedLR[0]"
   ]
  },
  {
   "cell_type": "code",
   "execution_count": 13,
   "metadata": {
    "collapsed": false
   },
   "outputs": [
    {
     "name": "stdout",
     "output_type": "stream",
     "text": [
      "Ensemble accuracy: 97.0833333333\n"
     ]
    }
   ],
   "source": [
    "predictsEnsemble = []\n",
    "for i in TestNpArray:\n",
    "    predictsEnsemble.append(ensemble(i[:-1].reshape(1,-1)))\n",
    "\n",
    "print(\"Ensemble accuracy: %s\" %testAccuracySklearn(predictsEnsemble, TestNpArray[:,-1]))\n"
   ]
  },
  {
   "cell_type": "markdown",
   "metadata": {},
   "source": [
    "2 B)\n",
    "\n",
    "By combing the two algorithmes K nearest neighbour and the neural network we get an algorithme that uses both predictions. If both algorithmes give a different anwser then they will check their anwsers with the logistic regression classifier. The last algorithm will decide which one is right with a tie. \n",
    "\n",
    "By chosing this approach we can make an algorithm that is better than the neural network and the logistic regression. It is not better than the K nearest neighbour. We think this is because the test data and training data are so very similar that k nearest neighbour will always be better. "
   ]
  },
  {
   "cell_type": "markdown",
   "metadata": {},
   "source": [
    "2 C)"
   ]
  },
  {
   "cell_type": "code",
   "execution_count": 14,
   "metadata": {
    "collapsed": false
   },
   "outputs": [
    {
     "name": "stdout",
     "output_type": "stream",
     "text": [
      "Neural network accuracy: 95.0\n",
      "Ensemble accuracy: 95.0\n",
      "Final accuracy: 99.1666666667\n"
     ]
    }
   ],
   "source": [
    "#Cross validation\n",
    "\n",
    "predictedMLPC = classifierMLPC.predict(TestNpArray[:120,:-1])\n",
    "\n",
    "predictsEnsemble = []\n",
    "for i in TestNpArray[0:120]:\n",
    "    predictsEnsemble.append(ensemble(i[:-1].reshape(1,-1)))\n",
    "\n",
    "    \n",
    "print(\"Neural network accuracy: %s\" %testAccuracySklearn(predictedMLPC, TestNpArray[:120,-1]))\n",
    "print(\"Ensemble accuracy: %s\" %testAccuracySklearn(predictsEnsemble, TestNpArray[:120,-1]))\n",
    "\n",
    "predictsEnsemble = []\n",
    "for i in TestNpArray[120:]:\n",
    "    predictsEnsemble.append(ensemble(i[:-1].reshape(1,-1)))\n",
    "\n",
    "print(\"Final accuracy: %s\" %testAccuracySklearn(predictsEnsemble, TestNpArray[120:,-1]))\n",
    "\n"
   ]
  }
 ],
 "metadata": {
  "anaconda-cloud": {},
  "kernelspec": {
   "display_name": "Python 2",
   "language": "python",
   "name": "python2"
  },
  "language_info": {
   "codemirror_mode": {
    "name": "ipython",
    "version": 2
   },
   "file_extension": ".py",
   "mimetype": "text/x-python",
   "name": "python",
   "nbconvert_exporter": "python",
   "pygments_lexer": "ipython2",
   "version": "2.7.6"
  }
 },
 "nbformat": 4,
 "nbformat_minor": 1
}
