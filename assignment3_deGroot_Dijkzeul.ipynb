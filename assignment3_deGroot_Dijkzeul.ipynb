{
 "cells": [
  {
   "cell_type": "markdown",
   "metadata": {},
   "source": [
    "# Leren: Programming assignment 3\n",
    "** This assignment can be done in teams of 2 **\n",
    "\n",
    "**Student 1:**  <span style=\"color:red\">de Groot</span> (<span style=\"color:red\">10434410</span>)<br>\n",
    "**Student 2:** <span style=\"color:red\">dijkzeul</span> (<span style=\"color:red\">10554386</span>)<br>\n",
    "\n",
    "-----------------------------------\n",
    "You may want to use parts of your code from the previous assignment(s) as a starting point for this assignment. \n",
    "\n",
    "The code you hand-in should follow the structure from this document. Write down your functions in the cells they belong to. Note that the structure corresponds with the structure from the actual programming assignment. Make sure you read this for the full explanation of what is expected of you. \n",
    "\n",
    "**Submission:**\n",
    "\n",
    "* Make sure your code can be run from top to bottom without errors.\n",
    "* Include your data files in the zip file.\n",
    "* Comment your code\n",
    "\n",
    "One way be sure you code can be run without errors is by quiting iPython completely and then restart iPython and run all cells again (you can do this by going to the menu bar above: Cell > Run all). This way you make sure that no old definitions of functions or values of variables are left (that your program might still be using).\n",
    "\n",
    "-----------------------------------\n",
    "\n",
    "If you have any questions ask your teaching assistent. We are here for you.\n",
    "\n",
    "-----------------------------------"
   ]
  },
  {
   "cell_type": "markdown",
   "metadata": {},
   "source": [
    "## Regularized Logistic Regression\n",
    "\n",
    "1) Reading in data"
   ]
  },
  {
   "cell_type": "code",
   "execution_count": 170,
   "metadata": {
    "collapsed": false
   },
   "outputs": [
    {
     "data": {
      "text/html": [
       "<div>\n",
       "<table border=\"1\" class=\"dataframe\">\n",
       "  <thead>\n",
       "    <tr style=\"text-align: right;\">\n",
       "      <th></th>\n",
       "      <th>0</th>\n",
       "      <th>1</th>\n",
       "      <th>2</th>\n",
       "      <th>3</th>\n",
       "      <th>4</th>\n",
       "      <th>5</th>\n",
       "      <th>6</th>\n",
       "      <th>7</th>\n",
       "      <th>8</th>\n",
       "      <th>9</th>\n",
       "      <th>...</th>\n",
       "      <th>55</th>\n",
       "      <th>56</th>\n",
       "      <th>57</th>\n",
       "      <th>58</th>\n",
       "      <th>59</th>\n",
       "      <th>60</th>\n",
       "      <th>61</th>\n",
       "      <th>62</th>\n",
       "      <th>63</th>\n",
       "      <th>64</th>\n",
       "    </tr>\n",
       "  </thead>\n",
       "  <tbody>\n",
       "    <tr>\n",
       "      <th>0</th>\n",
       "      <td>0</td>\n",
       "      <td>0</td>\n",
       "      <td>0</td>\n",
       "      <td>12</td>\n",
       "      <td>13</td>\n",
       "      <td>5</td>\n",
       "      <td>0</td>\n",
       "      <td>0</td>\n",
       "      <td>0</td>\n",
       "      <td>0</td>\n",
       "      <td>...</td>\n",
       "      <td>0</td>\n",
       "      <td>0</td>\n",
       "      <td>0</td>\n",
       "      <td>0</td>\n",
       "      <td>11</td>\n",
       "      <td>16</td>\n",
       "      <td>10</td>\n",
       "      <td>0</td>\n",
       "      <td>0</td>\n",
       "      <td>1</td>\n",
       "    </tr>\n",
       "    <tr>\n",
       "      <th>1</th>\n",
       "      <td>0</td>\n",
       "      <td>0</td>\n",
       "      <td>0</td>\n",
       "      <td>0</td>\n",
       "      <td>14</td>\n",
       "      <td>13</td>\n",
       "      <td>1</td>\n",
       "      <td>0</td>\n",
       "      <td>0</td>\n",
       "      <td>0</td>\n",
       "      <td>...</td>\n",
       "      <td>0</td>\n",
       "      <td>0</td>\n",
       "      <td>0</td>\n",
       "      <td>0</td>\n",
       "      <td>1</td>\n",
       "      <td>13</td>\n",
       "      <td>16</td>\n",
       "      <td>1</td>\n",
       "      <td>0</td>\n",
       "      <td>1</td>\n",
       "    </tr>\n",
       "    <tr>\n",
       "      <th>2</th>\n",
       "      <td>0</td>\n",
       "      <td>0</td>\n",
       "      <td>0</td>\n",
       "      <td>2</td>\n",
       "      <td>16</td>\n",
       "      <td>16</td>\n",
       "      <td>2</td>\n",
       "      <td>0</td>\n",
       "      <td>0</td>\n",
       "      <td>0</td>\n",
       "      <td>...</td>\n",
       "      <td>0</td>\n",
       "      <td>0</td>\n",
       "      <td>0</td>\n",
       "      <td>0</td>\n",
       "      <td>2</td>\n",
       "      <td>12</td>\n",
       "      <td>15</td>\n",
       "      <td>4</td>\n",
       "      <td>0</td>\n",
       "      <td>1</td>\n",
       "    </tr>\n",
       "    <tr>\n",
       "      <th>3</th>\n",
       "      <td>0</td>\n",
       "      <td>0</td>\n",
       "      <td>0</td>\n",
       "      <td>0</td>\n",
       "      <td>12</td>\n",
       "      <td>5</td>\n",
       "      <td>0</td>\n",
       "      <td>0</td>\n",
       "      <td>0</td>\n",
       "      <td>0</td>\n",
       "      <td>...</td>\n",
       "      <td>0</td>\n",
       "      <td>0</td>\n",
       "      <td>0</td>\n",
       "      <td>0</td>\n",
       "      <td>3</td>\n",
       "      <td>16</td>\n",
       "      <td>8</td>\n",
       "      <td>0</td>\n",
       "      <td>0</td>\n",
       "      <td>1</td>\n",
       "    </tr>\n",
       "    <tr>\n",
       "      <th>4</th>\n",
       "      <td>0</td>\n",
       "      <td>0</td>\n",
       "      <td>0</td>\n",
       "      <td>1</td>\n",
       "      <td>11</td>\n",
       "      <td>9</td>\n",
       "      <td>0</td>\n",
       "      <td>0</td>\n",
       "      <td>0</td>\n",
       "      <td>0</td>\n",
       "      <td>...</td>\n",
       "      <td>0</td>\n",
       "      <td>0</td>\n",
       "      <td>0</td>\n",
       "      <td>0</td>\n",
       "      <td>2</td>\n",
       "      <td>14</td>\n",
       "      <td>6</td>\n",
       "      <td>0</td>\n",
       "      <td>0</td>\n",
       "      <td>1</td>\n",
       "    </tr>\n",
       "  </tbody>\n",
       "</table>\n",
       "<p>5 rows × 65 columns</p>\n",
       "</div>"
      ],
      "text/plain": [
       "   0   1   2   3   4   5   6   7   8   9  ...  55  56  57  58  59  60  61  62  \\\n",
       "0   0   0   0  12  13   5   0   0   0   0 ...   0   0   0   0  11  16  10   0   \n",
       "1   0   0   0   0  14  13   1   0   0   0 ...   0   0   0   0   1  13  16   1   \n",
       "2   0   0   0   2  16  16   2   0   0   0 ...   0   0   0   0   2  12  15   4   \n",
       "3   0   0   0   0  12   5   0   0   0   0 ...   0   0   0   0   3  16   8   0   \n",
       "4   0   0   0   1  11   9   0   0   0   0 ...   0   0   0   0   2  14   6   0   \n",
       "\n",
       "   63  64  \n",
       "0   0   1  \n",
       "1   0   1  \n",
       "2   0   1  \n",
       "3   0   1  \n",
       "4   0   1  \n",
       "\n",
       "[5 rows x 65 columns]"
      ]
     },
     "execution_count": 170,
     "metadata": {},
     "output_type": "execute_result"
    }
   ],
   "source": [
    "import pandas as pd\n",
    "import numpy as np\n",
    "import math\n",
    "import matplotlib.pyplot as plt\n",
    "import random\n",
    "\n",
    "# Read the csv file with pandas\n",
    "Digits = pd.read_csv('digits123.csv', sep=\",\", header=None)\n",
    "\n",
    "Digits.head()"
   ]
  },
  {
   "cell_type": "markdown",
   "metadata": {},
   "source": [
    "2) Gradient function and Parameter updating"
   ]
  },
  {
   "cell_type": "code",
   "execution_count": 164,
   "metadata": {
    "collapsed": true
   },
   "outputs": [],
   "source": [
    "# uses the sigmoid function to calculate the hypothesis\n",
    "def hypothesis(theta, xVector):\n",
    "    return 1.0/(1.0+math.e **(-np.dot(theta,xVector)))\n",
    "\n",
    "# Gradient function for the logistic regression\n",
    "def gradientLog(theta,xMatrix,yVector, thetaIndex):\n",
    "    gradient = (1.0/(1+math.e **(np.dot(theta,xMatrix))))-yVector\n",
    "    gradient = np.dot(gradient,xMatrix[thetaIndex])\n",
    "    return gradient/len(yVector)\n",
    "    \n",
    "# Update the theta vector for logistic regression\n",
    "def updateLog(alpha, theta, xMatrix, yVector, Lambda):\n",
    "    regularizationVector = [1]*len(theta)\n",
    "    tempTheta = [None]*len(theta)\n",
    "    for i in range(len(theta)):\n",
    "        regularizationVector[i] *= Lambda/len(yVector)*theta[i]\n",
    "    regularizationVector[0] = 0\n",
    "    for i in range(len(theta)):\n",
    "        tempTheta[i] = theta[i] - alpha * (gradientLog(theta,xMatrix,yVector,i) + regularizationVector[i])\n",
    "    return tempTheta\n"
   ]
  },
  {
   "cell_type": "markdown",
   "metadata": {},
   "source": [
    "3) Cost function\n"
   ]
  },
  {
   "cell_type": "code",
   "execution_count": 163,
   "metadata": {
    "collapsed": true
   },
   "outputs": [],
   "source": [
    "# Calculate the cost for a logistic regrssion function\n",
    "def costLogFunction(theta, xMatrix, yVector, Lambda):\n",
    "    costSum = 0.0\n",
    "    regularization = 0.0\n",
    "    for i in range(len(yVector)):\n",
    "        if yVector[i]:\n",
    "            costSum += math.log(hypothesis(theta,xMatrix[i]))\n",
    "        else:\n",
    "            costSum += math.log(1-hypothesis(theta,xMatrix[i]))\n",
    "            # dit geeft log(0) omdat hypothesis altijd 1 returned\n",
    "            # dat mag niet\n",
    "    for i in range(1,len(theta)):\n",
    "        regularization += theta[i] **2\n",
    "    return -(costSum/len(yVector) + (2*Lambda/len(yVector)*regularization))\n",
    "    "
   ]
  },
  {
   "cell_type": "markdown",
   "metadata": {},
   "source": [
    "4) Pairwise comparison of classess"
   ]
  },
  {
   "cell_type": "code",
   "execution_count": 162,
   "metadata": {
    "collapsed": true
   },
   "outputs": [],
   "source": [
    "# split y and multiply theta when multi-class classifying\n",
    "def splitClasses(theta, yVector):\n",
    "    classes = list(set(yVector))\n",
    "    if len(classes) <=2 and 0 in classes:\n",
    "        return theta, yVector\n",
    "    else:\n",
    "        # split y in het aantal klasses\n",
    "        yMatrix = np.zeros((len(yVector),len(classes)))\n",
    "        thetaMatrix = np.zeros((len(classes),len(theta)))\n",
    "        for i in range(len(classes)):\n",
    "            for j in range(len(yVector)):\n",
    "                if yVector[j] == classes[i]:\n",
    "                    yMatrix[j][i] = 1\n",
    "                else:\n",
    "                    yMatrix[j][i] = 0\n",
    "            thetaMatrix[i] = theta\n",
    "        yMatrix = yMatrix.T\n",
    "        return thetaMatrix, yMatrix\n",
    "            "
   ]
  },
  {
   "cell_type": "markdown",
   "metadata": {},
   "source": [
    "5) Optimization learning rate and iterations"
   ]
  },
  {
   "cell_type": "code",
   "execution_count": 167,
   "metadata": {
    "collapsed": false
   },
   "outputs": [
    {
     "name": "stdout",
     "output_type": "stream",
     "text": [
      "Old costs:  [[0.6983514473972593, 0.69861915957438092, 0.69850901197290327]]\n",
      "New cost:  [0.59688022315208678, 0.60631190965549586, 0.60140973016526666]\n"
     ]
    },
    {
     "data": {
      "image/png": "[encoded data removed]",
      "text/plain": [
       "<matplotlib.figure.Figure at 0x7ff2ff7a6250>"
      ]
     },
     "metadata": {},
     "output_type": "display_data"
    }
   ],
   "source": [
    "def logreg():\n",
    "\n",
    "    alpha = 0.00001\n",
    "    iterations = 120\n",
    "    # Echt geen idee welke waarde Lambda moet hebben. Het werkt nu nog steeds dus maybe is het goed?\n",
    "    Lambda = 10\n",
    "    yVector = Digits[Digits.columns[-1]]\n",
    "    xMatrix = np.ones((Digits.columns[-1]+1,len(yVector)))\n",
    "    theta = np.ones((Digits.columns[-1]+1))*0.0001\n",
    "    for i in range(1,Digits.columns[-1]):\n",
    "        xMatrix[i] = Digits[i]\n",
    "        \n",
    "    thetaMatrix, yMatrix = splitClasses(theta, yVector)\n",
    "    \n",
    "    costs = [[]]\n",
    "    for i in range(len(yMatrix)):\n",
    "        costs[0].append(costLogFunction(thetaMatrix[i], xMatrix.T, yMatrix[i], Lambda))\n",
    "    print \"Old costs: \", costs\n",
    "    \n",
    "    for i in range(iterations):\n",
    "        costs.append([])\n",
    "        for j in range(len(yMatrix)):\n",
    "            thetaMatrix[j] = updateLog(alpha, thetaMatrix[j], xMatrix, yMatrix[j], Lambda)\n",
    "            costs[i+1].append(costLogFunction(thetaMatrix[j], xMatrix.T, yMatrix[j], Lambda))\n",
    "    \n",
    "    print \"New cost: \", costs[-1]\n",
    "    costs = np.array(costs).T\n",
    "    x = np.arange(0,len(costs[0]))\n",
    "    \n",
    "    plt.plot(x,costs[0])\n",
    "    plt.plot(x,costs[1], 'r')\n",
    "    plt.plot(x,costs[2], 'g')\n",
    "    plt.show()\n",
    "    \n",
    "logreg()"
   ]
  },
  {
   "cell_type": "markdown",
   "metadata": {},
   "source": [
    "**Discussion:**\n",
    "1 a)\n",
    "It is difficult to find a good value for lambda. Mostly because it is difficult to make an insightful plot when there are 64 features. Current value is 10.\n",
    "\n",
    "1 b)\n",
    "\n",
    "Came only as far as generating some data with noise\n",
    "\n",
    "-----------------------------------"
   ]
  },
  {
   "cell_type": "markdown",
   "metadata": {},
   "source": [
    "1 b) "
   ]
  },
  {
   "cell_type": "code",
   "execution_count": 190,
   "metadata": {
    "collapsed": false
   },
   "outputs": [
    {
     "name": "stdout",
     "output_type": "stream",
     "text": [
      "[[ 0.40541876  0.95537676  0.1167286   0.93247819  0.19285523  0.37488396\n",
      "   0.49177804  0.89490683  0.06902413  0.30385569]\n",
      " [ 0.5405206   0.61589676  0.60558796  0.57733631  0.25960046  0.74360678\n",
      "   0.69018262  0.97228646  0.96484523  0.4397928 ]\n",
      " [ 0.08623233  0.08238375  0.58929517  0.59642671  0.58601664  0.31436157\n",
      "   0.79288834  0.2883034   0.88237479  0.08408899]] [[ 0.]\n",
      " [ 0.]\n",
      " [ 0.]\n",
      " [ 1.]\n",
      " [ 0.]\n",
      " [ 1.]\n",
      " [ 1.]\n",
      " [ 1.]\n",
      " [ 0.]\n",
      " [ 0.]]\n"
     ]
    }
   ],
   "source": [
    "# Hier moet 1 b nog\n",
    "\n",
    "# has 3 features\n",
    "def makeData(desicionBoundary,datasetSize, noise):\n",
    "    dataSet = np.matrix([np.zeros(datasetSize),np.zeros(datasetSize),np.zeros(datasetSize)]) \n",
    "    actualValues = np.matrix([np.zeros(datasetSize)]).T\n",
    "    for i in range(datasetSize):\n",
    "        dataSet[0,i] = random.random()\n",
    "        dataSet[1,i] = random.random()\n",
    "        dataSet[2,i] = random.random()\n",
    "        randNoise = noise*random.random()\n",
    "        if dataSet[0,i] * dataSet[1,i] * dataSet[2,i] >= desicionBoundary + randNoise:\n",
    "            actualValues[i] = 1\n",
    "    return dataSet, actualValues  \n",
    "\n",
    "dataSet, actualValues = makeData(0.05, 10, 0.01)\n",
    "dataSet = np.array(dataSet)\n",
    "actualValues = np.array(actualValues)\n",
    "print dataSet, actualValues"
   ]
  },
  {
   "cell_type": "markdown",
   "metadata": {},
   "source": [
    "## Neural Network\n",
    "1) Forward propagation"
   ]
  },
  {
   "cell_type": "code",
   "execution_count": 168,
   "metadata": {
    "collapsed": false
   },
   "outputs": [],
   "source": [
    "# uses the sigmoid function to calculate the hypothesis\n",
    "# not actually the hypothesis any more, is used because it was called that in the\n",
    "# previous exercise. \n",
    "def hypothesisNN(theta, xVector):\n",
    "    #print \"xVec in hyp: \", xVector\n",
    "    #print \"Theta in hyp: \", theta\n",
    "    #print \"ThetT * x: \", theta*xVector\n",
    "    return 1.0/(1.0+math.e **(-np.asscalar((theta*xVector)[0])))\n",
    "\n",
    "# Thetamtrix is a list of matrices.\n",
    "def forwardPropagationSimple(xMatrix, thetaMatrix):\n",
    "    activationLayer = hypothesisNN(thetaMatrix[0],xMatrix)\n",
    "    activationLayer = np.matrix([[activationLayer]])\n",
    "    #print \"Activation 2: \", activationLayer\n",
    "    outputLayer = np.matrix([[hypothesisNN(thetaMatrix[1], activationLayer)]])\n",
    "    return [activationLayer, outputLayer]\n"
   ]
  },
  {
   "cell_type": "markdown",
   "metadata": {},
   "source": [
    "2) Error Backpropagation"
   ]
  },
  {
   "cell_type": "code",
   "execution_count": 169,
   "metadata": {
    "collapsed": false
   },
   "outputs": [
    {
     "name": "stdout",
     "output_type": "stream",
     "text": [
      "Cost:  0.67434489419\n",
      "Cost:  0.673900638736\n",
      "Cost:  0.669532629131\n",
      "Cost:  0.593328900086\n",
      "Cost:  0.163415694989\n",
      "Cost:  3.20879550409e-05\n"
     ]
    }
   ],
   "source": [
    "# For the whole simplified part no normalization is used\n",
    "\n",
    "\n",
    "# Does one iteration of back propagation\n",
    "# It is important to note that the bias node in layer l should not be used to\n",
    "# back propage the error to the earlier layer, otherwise the dimentions of \n",
    "# delta will not be correct\n",
    "def backPropagationSimple(activationValues, thetaMatrix, Delta, yVector, xMatrix):\n",
    "    #print \"Act-1 - Y: \", activationValues[-1] - yVector[0]\n",
    "    delta1 = np.matrix(activationValues[-1] - yVector[0])\n",
    "    #print \"Delt1: \", delta1\n",
    "    # Nog iets met delta doen\n",
    "    # is geen goede sintax\n",
    "    gz2 = np.multiply(activationValues[-2], np.subtract(1,activationValues[-2]))\n",
    "    #print \"g(z)2: \", gz2\n",
    "    # gekut met numpy. dot product doet raar.\n",
    "    # Maybe toch maar alles in matrices veranderen\n",
    "    #print \"theta*delt1 in bpr: \", theta[-1].T*delta1\n",
    "    delta2 = np.multiply((theta[-1].T * delta1), gz2)\n",
    "    #print \"delta2: \", delta2\n",
    "    Delta[-1] = Delta[-1] + delta1 * activationValues[-2].T\n",
    "    #print \"Delta-1: \", Delta[-1]\n",
    "    Delta[-2] = Delta[-2] + delta2 * xMatrix[0].T\n",
    "    #print \"Delta-2: \", Delta[-2]\n",
    "    return Delta\n",
    "\n",
    "# computes the net theta based on the matrices of partial derivatives (Delta)\n",
    "def updateTheta(Theta, Delta, alpha):\n",
    "    for i in range(len(Theta)):\n",
    "        Theta[i] = Theta[i] - alpha*Delta[i]\n",
    "    return Theta\n",
    "\n",
    "# The costfunction is simplified to a dataset of one \n",
    "# The number of classes is also one \n",
    "def costFunctionSimple(hypothesisValue, yVector):\n",
    "    result = -(np.asscalar(yVector) * math.log(np.asscalar(hypothesisValue))) \n",
    "    result -= ((1-np.asscalar(yVector)) * math.log(1-np.asscalar(hypothesisValue)))\n",
    "    return result\n",
    "    \n",
    "iterations = 18\n",
    "alpha = 0.001\n",
    "yVector = np.matrix([1])\n",
    "xMatrix = [np.matrix([[-5]])]\n",
    "# theta[i] is the matrix that describes theta between the i'th and i+1'st layer\n",
    "theta = [np.matrix([[0.5]]),np.matrix([[0.5]])]\n",
    "Delta = [np.matrix([[0.0]]),np.matrix([[0.0]])]\n",
    "hypothesisValue = 0\n",
    "for runtime in range(iterations):\n",
    "    for i in range(len(yVector)):\n",
    "        activationValues = forwardPropagationSimple(xMatrix[0], theta)\n",
    "        #print \"Activ: \", activationValues\n",
    "        hypothesisValue = activationValues[-1]\n",
    "        cost = costFunctionSimple(hypothesisValue, yVector)\n",
    "        if runtime%3 == 1:\n",
    "            print \"Cost: \", cost\n",
    "        Deltatemp = backPropagationSimple(activationValues, theta, Delta, yVector, xMatrix)\n",
    "        for j in range(len(Delta)):\n",
    "            Delta[j] = Delta[j] + Deltatemp[j]       \n",
    "    #print Delta\n",
    "\n",
    "    for i in range(len(yVector)):\n",
    "        Delta[i] = Delta[i]/len(yVector)\n",
    "    # after doing forward and backward prop for each example in the dataset\n",
    "    # it is time to update theta\n",
    "    theta = updateTheta(theta, Delta, alpha)\n",
    "    #print theta\n",
    "\n",
    "\n"
   ]
  },
  {
   "cell_type": "markdown",
   "metadata": {},
   "source": [
    "3) Complete Backpropagation"
   ]
  },
  {
   "cell_type": "code",
   "execution_count": null,
   "metadata": {
    "collapsed": true
   },
   "outputs": [],
   "source": []
  },
  {
   "cell_type": "markdown",
   "metadata": {},
   "source": [
    "**Discussion:**\n",
    "\n",
    "1&2, simple NN)\n",
    "With a little effort it was possible to implement the most basic form of a neural net. \n",
    "With 18 iterations of the net, the cost calculated by the cost function has decreased to almost 0.\n",
    "If one extra iteration is tried the hypothesis returned by forward propagation rounds to 1,\n",
    "causing the log(1-hypothesis) to error. If we look at the data this means that the network predicts the value\n",
    "of 1. Which is the actual value, meaning it is a near perfect prediction.\n",
    "\n",
    "3, complete NN)\n",
    "This has not been attempted yet.\n",
    "\n",
    "-----------------------------------"
   ]
  }
 ],
 "metadata": {
  "anaconda-cloud": {},
  "kernelspec": {
   "display_name": "Python [default]",
   "language": "python",
   "name": "python2"
  },
  "language_info": {
   "codemirror_mode": {
    "name": "ipython",
    "version": 2
   },
   "file_extension": ".py",
   "mimetype": "text/x-python",
   "name": "python",
   "nbconvert_exporter": "python",
   "pygments_lexer": "ipython2",
   "version": "2.7.12"
  }
 },
 "nbformat": 4,
 "nbformat_minor": 1
}
