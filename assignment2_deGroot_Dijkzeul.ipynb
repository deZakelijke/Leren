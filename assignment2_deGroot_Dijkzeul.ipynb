{
 "cells": [
  {
   "cell_type": "markdown",
   "metadata": {},
   "source": [
    "# Leren: Programming assignment 2\n",
    "** This assignment can be done in teams of 2 **\n",
    "\n",
    "**Student 1:**  <span style=\"color:red\">de Groot</span> (<span style=\"color:red\">10434410</span>)<br>\n",
    "**Student 2:** <span style=\"color:red\">Dijkzeul</span> (<span style=\"color:red\">10554386)<br>\n",
    "\n",
    "-----------------------------------\n",
    "This notebook provides a template for your programming assignment 2. You may want to use parts of your code from the previous assignment(s) as a starting point for this assignment. \n",
    "\n",
    "The code you hand-in should follow the structure from this document. Write down your functions in the cells they belong to. Note that the structure corresponds with the structure from the actual programming assignment. Make sure you read this for the full explanation of what is expected of you. \n",
    "\n",
    "**Submission:**\n",
    "\n",
    "* Make sure your code can be run from top to bottom without errors.\n",
    "* Include your data files in the zip file.\n",
    "* Comment your code\n",
    "\n",
    "One way be sure you code can be run without errors is by quiting iPython completely and then restart iPython and run all cells again (you can do this by going to the menu bar above: Cell > Run all). This way you make sure that no old definitions of functions or values of variables are left (that your program might still be using).\n",
    "\n",
    "-----------------------------------\n",
    "\n",
    "If you have any questions ask your teaching assistent. We are here for you.\n",
    "\n",
    "-----------------------------------"
   ]
  },
  {
   "cell_type": "markdown",
   "metadata": {},
   "source": [
    "## Multivariate Linear Regression\n",
    "1) Reading in data"
   ]
  },
  {
   "cell_type": "code",
   "execution_count": 1,
   "metadata": {
    "collapsed": false
   },
   "outputs": [
    {
     "data": {
      "text/html": [
       "<div>\n",
       "<table border=\"1\" class=\"dataframe\">\n",
       "  <thead>\n",
       "    <tr style=\"text-align: right;\">\n",
       "      <th></th>\n",
       "      <th>MLS</th>\n",
       "      <th>Bedrooms</th>\n",
       "      <th>Bathrooms</th>\n",
       "      <th>Size</th>\n",
       "      <th>Price</th>\n",
       "    </tr>\n",
       "  </thead>\n",
       "  <tbody>\n",
       "    <tr>\n",
       "      <th>0</th>\n",
       "      <td>132842</td>\n",
       "      <td>3</td>\n",
       "      <td>3</td>\n",
       "      <td>2371</td>\n",
       "      <td>795000</td>\n",
       "    </tr>\n",
       "    <tr>\n",
       "      <th>1</th>\n",
       "      <td>134364</td>\n",
       "      <td>4</td>\n",
       "      <td>3</td>\n",
       "      <td>2818</td>\n",
       "      <td>399000</td>\n",
       "    </tr>\n",
       "    <tr>\n",
       "      <th>2</th>\n",
       "      <td>135141</td>\n",
       "      <td>4</td>\n",
       "      <td>3</td>\n",
       "      <td>3032</td>\n",
       "      <td>545000</td>\n",
       "    </tr>\n",
       "    <tr>\n",
       "      <th>3</th>\n",
       "      <td>135712</td>\n",
       "      <td>4</td>\n",
       "      <td>4</td>\n",
       "      <td>3540</td>\n",
       "      <td>909000</td>\n",
       "    </tr>\n",
       "    <tr>\n",
       "      <th>4</th>\n",
       "      <td>136282</td>\n",
       "      <td>3</td>\n",
       "      <td>1</td>\n",
       "      <td>1249</td>\n",
       "      <td>109900</td>\n",
       "    </tr>\n",
       "  </tbody>\n",
       "</table>\n",
       "</div>"
      ],
      "text/plain": [
       "      MLS  Bedrooms  Bathrooms  Size   Price\n",
       "0  132842         3          3  2371  795000\n",
       "1  134364         4          3  2818  399000\n",
       "2  135141         4          3  3032  545000\n",
       "3  135712         4          4  3540  909000\n",
       "4  136282         3          1  1249  109900"
      ]
     },
     "execution_count": 1,
     "metadata": {},
     "output_type": "execute_result"
    }
   ],
   "source": [
    "import pandas as pd\n",
    "import numpy as np\n",
    "import math\n",
    "import matplotlib.pyplot as plt\n",
    "\n",
    "# Read the csv file with pandas\n",
    "Houses = pd.read_csv('housesRegr.csv', sep=\";\")\n",
    "\n",
    "Houses.head()"
   ]
  },
  {
   "cell_type": "markdown",
   "metadata": {},
   "source": [
    "2) Gradient function"
   ]
  },
  {
   "cell_type": "code",
   "execution_count": 2,
   "metadata": {
    "collapsed": true
   },
   "outputs": [],
   "source": [
    "# Calculate the gradien with resprect to theta.\n",
    "# Now updated and extended to accept x as a matrix, extended with x^(0) = 1\n",
    "def gradient(theta, xMatrix, yVector, thetaIndex):\n",
    "    gradientValue = np.dot((np.dot(theta,xMatrix.T) - yVector), xMatrix.T[thetaIndex])\n",
    "    \n",
    "    # no longer needen, shit is vectorized yo\n",
    "    #gradientValue = 0\n",
    "    #for i in range(len(yVector)):\n",
    "    #    gradientValue += (np.dot(theta,xMatrix[i].T) -yVector[i])*xMatrix[i][thetaIndex]\n",
    "    return gradientValue / len(yVector)\n",
    "\n",
    "\n",
    "# Moet nog even verbeterd worden zodat het een mooie matrixvermenigvuldiging wordt"
   ]
  },
  {
   "cell_type": "markdown",
   "metadata": {},
   "source": [
    "3) Parameter updating"
   ]
  },
  {
   "cell_type": "code",
   "execution_count": 22,
   "metadata": {
    "collapsed": true
   },
   "outputs": [],
   "source": [
    "# Update all values of theta with learning rate alpha\n",
    "# Uses the above defined gradientVec function\n",
    "def update(alpha, theta, xMatrix, yVector):\n",
    "    tempTheta = [None]*len(theta)\n",
    "    for i in range(len(theta)):\n",
    "        tempTheta[i] = theta[i] - alpha*gradient(theta, xMatrix, yVector, i)\n",
    "    return tempTheta"
   ]
  },
  {
   "cell_type": "markdown",
   "metadata": {},
   "source": [
    "4) Cost function"
   ]
  },
  {
   "cell_type": "code",
   "execution_count": 4,
   "metadata": {
    "collapsed": true
   },
   "outputs": [],
   "source": [
    "# calculates the cost as the squared difference between y and the function of theta\n",
    "# Now updated and extended to accept x as a matrix, extended with x^(0) = 1\n",
    "def costFunction(theta, xMatrix, yVector):\n",
    "    costSum = np.dot(theta,xMatrix.T)-yVector\n",
    "    costSum = np.dot(costSum,costSum)\n",
    "    \n",
    "    # no longer needen, shit is vectorized yo\n",
    "    #costSum = 0\n",
    "    #for i in range(len(yVector)):\n",
    "    #    costSum += (np.dot(theta,xMatrix[i])-yVector[i]) ** 2\n",
    "\n",
    "    return costSum / (2*len(yVector))"
   ]
  },
  {
   "cell_type": "markdown",
   "metadata": {},
   "source": [
    "5) Optimization learning rate and iterations"
   ]
  },
  {
   "cell_type": "code",
   "execution_count": 5,
   "metadata": {
    "collapsed": true
   },
   "outputs": [],
   "source": [
    "def normalize(xMatrix):\n",
    "    sizeMax = max(Houses.Size)\n",
    "    sizeMean = np.mean(Houses.Size)\n",
    "    bedMax = max(Houses.Bedrooms)\n",
    "    bedMean = np.mean(Houses.Bedrooms)\n",
    "    bathMax = max(Houses.Bathrooms)\n",
    "    bathMean = np.mean(Houses.Bathrooms)\n",
    "    for i in range(len(xMatrix)):\n",
    "        xMatrix[i][0] = (xMatrix[i][0]-bedMean)/float(bedMax)\n",
    "        xMatrix[i][1] = (xMatrix[i][1]-bathMean)/bathMax\n",
    "        xMatrix[i][2] = (xMatrix[i][2]-sizeMean)/sizeMax\n",
    "    return xMatrix"
   ]
  },
  {
   "cell_type": "code",
   "execution_count": 68,
   "metadata": {
    "collapsed": false
   },
   "outputs": [
    {
     "name": "stdout",
     "output_type": "stream",
     "text": [
      "Old cost:  133987387645.0\n",
      "New cost:  32752507775.2\n"
     ]
    },
    {
     "data": {
      "image/png": "[encoded data removed]",
      "text/plain": [
       "<matplotlib.figure.Figure at 0x7f9cb049e590>"
      ]
     },
     "metadata": {},
     "output_type": "display_data"
    }
   ],
   "source": [
    "def multiple():\n",
    "    theta = np.array([100.0,100.0, 100.0,10000.0])\n",
    "    alpha = 0.5\n",
    "    iterations = 500\n",
    "    yVector = Houses.Price\n",
    "    xMatrix = Houses.as_matrix(columns=['Bedrooms', 'Bathrooms', 'Size']).astype(float)\n",
    "    xMatrix = normalize(xMatrix)\n",
    "        \n",
    "    xMatrix = np.hstack((np.ones((len(xMatrix),1),dtype=np.float),xMatrix))\n",
    "\n",
    "    cost = [costFunction(theta, xMatrix, yVector)]\n",
    "    print \"Old cost: \", cost[0]\n",
    "    \n",
    "    for i in range(iterations):\n",
    "        theta = update(alpha, theta, xMatrix, yVector)\n",
    "        cost.append(costFunction(theta, xMatrix, yVector))\n",
    "    \n",
    "    print \"New cost: \", cost[-1]\n",
    "    \n",
    "    x = np.arange(0,len(cost))\n",
    "    plt.plot(x,cost)\n",
    "    plt.show()\n",
    "    \n",
    "multiple()"
   ]
  },
  {
   "cell_type": "markdown",
   "metadata": {},
   "source": [
    "**Discussion:**\n",
    "\n",
    "The start was fairly similar to the previous exercise. Extending the program itself gave not much trouble once we had the linear algebra right.\n",
    "\n",
    "Some difficulties arose when testing without normalization, because the alpha had to be set quite low. This was, obviously, solved by normalizing the data. Some trials with alpha values and iterations gave the final values\n"
   ]
  },
  {
   "cell_type": "markdown",
   "metadata": {},
   "source": [
    "## Polynomial Regression\n",
    "1) Extension to polynomial regression"
   ]
  },
  {
   "cell_type": "code",
   "execution_count": 7,
   "metadata": {
    "collapsed": true
   },
   "outputs": [],
   "source": [
    "def extendMatrix(xMatrix):\n",
    "    xPowMatrix = np.empty([len(xMatrix), len(xMatrix[0])])\n",
    "    for i in range(len(xMatrix)):\n",
    "        xPowMatrix[i] = (np.power(xMatrix[i],2))\n",
    "    xMatrix = np.hstack((xMatrix,xPowMatrix))\n",
    "    \n",
    "    return xMatrix\n",
    "    "
   ]
  },
  {
   "cell_type": "markdown",
   "metadata": {},
   "source": [
    "2) Cost function"
   ]
  },
  {
   "cell_type": "code",
   "execution_count": 8,
   "metadata": {
    "collapsed": true
   },
   "outputs": [],
   "source": [
    "# calculates the cost as the squared difference between y and the function of theta\n",
    "# Now updated and extended to accept x as a matrix, extended with x^(0) = 1\n",
    "def costFunctionPoly(theta, xMatrix, yVector):\n",
    "    costSum = np.dot(theta,xMatrix.T)-yVector\n",
    "    costSum = np.dot(costSum,costSum)\n",
    "    return costSum / (2*len(yVector))"
   ]
  },
  {
   "cell_type": "markdown",
   "metadata": {},
   "source": [
    "3) Optimization learning rate and iterations"
   ]
  },
  {
   "cell_type": "code",
   "execution_count": 67,
   "metadata": {
    "collapsed": false
   },
   "outputs": [
    {
     "name": "stdout",
     "output_type": "stream",
     "text": [
      "Old cost:  133973587373.0\n",
      "New cost:  32555067451.6\n"
     ]
    },
    {
     "data": {
      "image/png": "[encoded data removed]",
      "text/plain": [
       "<matplotlib.figure.Figure at 0x7f9cb050cf50>"
      ]
     },
     "metadata": {},
     "output_type": "display_data"
    }
   ],
   "source": [
    "def multiplePoly():\n",
    "    theta = np.array([100.0,100.0, 100.0,10000.0,100.0,100.0,1000.0])\n",
    "    alpha = 0.5\n",
    "    iterations = 500\n",
    "    yVector = Houses.Price\n",
    "    xMatrix = Houses.as_matrix(columns=['Bedrooms', 'Bathrooms', 'Size']).astype(float)\n",
    "    xMatrix = normalize(xMatrix)\n",
    "    xMatrix = extendMatrix(xMatrix)\n",
    "    \n",
    "    xMatrix = np.hstack((np.ones((len(xMatrix),1),dtype=np.float),xMatrix))\n",
    "\n",
    "    \n",
    "    cost = [costFunctionPoly(theta, xMatrix, yVector)]\n",
    "    print \"Old cost: \", cost[0]\n",
    "    \n",
    "    for i in range(iterations):\n",
    "        theta = update(alpha, theta, xMatrix, yVector)\n",
    "        cost.append(costFunction(theta, xMatrix, yVector))\n",
    "    \n",
    "    print \"New cost: \", cost[-1]\n",
    "    \n",
    "    x = np.arange(0,len(cost))\n",
    "    plt.plot(x,cost)\n",
    "    plt.show()\n",
    "    \n",
    "multiplePoly()"
   ]
  },
  {
   "cell_type": "markdown",
   "metadata": {},
   "source": [
    "**Discussion:**\n",
    "\n",
    "This was a very straightforward extension of the previous assignment. No trouble here\n",
    "\n",
    "-----------------------------------"
   ]
  },
  {
   "cell_type": "markdown",
   "metadata": {},
   "source": [
    "## Logistic Regression\n",
    "1) Reading in data"
   ]
  },
  {
   "cell_type": "code",
   "execution_count": 10,
   "metadata": {
    "collapsed": false
   },
   "outputs": [
    {
     "data": {
      "text/html": [
       "<div>\n",
       "<table border=\"1\" class=\"dataframe\">\n",
       "  <thead>\n",
       "    <tr style=\"text-align: right;\">\n",
       "      <th></th>\n",
       "      <th>0</th>\n",
       "      <th>1</th>\n",
       "      <th>2</th>\n",
       "      <th>3</th>\n",
       "      <th>4</th>\n",
       "      <th>5</th>\n",
       "      <th>6</th>\n",
       "      <th>7</th>\n",
       "      <th>8</th>\n",
       "      <th>9</th>\n",
       "      <th>...</th>\n",
       "      <th>55</th>\n",
       "      <th>56</th>\n",
       "      <th>57</th>\n",
       "      <th>58</th>\n",
       "      <th>59</th>\n",
       "      <th>60</th>\n",
       "      <th>61</th>\n",
       "      <th>62</th>\n",
       "      <th>63</th>\n",
       "      <th>64</th>\n",
       "    </tr>\n",
       "  </thead>\n",
       "  <tbody>\n",
       "    <tr>\n",
       "      <th>0</th>\n",
       "      <td>0</td>\n",
       "      <td>0</td>\n",
       "      <td>0</td>\n",
       "      <td>12</td>\n",
       "      <td>13</td>\n",
       "      <td>5</td>\n",
       "      <td>0</td>\n",
       "      <td>0</td>\n",
       "      <td>0</td>\n",
       "      <td>0</td>\n",
       "      <td>...</td>\n",
       "      <td>0</td>\n",
       "      <td>0</td>\n",
       "      <td>0</td>\n",
       "      <td>0</td>\n",
       "      <td>11</td>\n",
       "      <td>16</td>\n",
       "      <td>10</td>\n",
       "      <td>0</td>\n",
       "      <td>0</td>\n",
       "      <td>1</td>\n",
       "    </tr>\n",
       "    <tr>\n",
       "      <th>1</th>\n",
       "      <td>0</td>\n",
       "      <td>0</td>\n",
       "      <td>0</td>\n",
       "      <td>0</td>\n",
       "      <td>14</td>\n",
       "      <td>13</td>\n",
       "      <td>1</td>\n",
       "      <td>0</td>\n",
       "      <td>0</td>\n",
       "      <td>0</td>\n",
       "      <td>...</td>\n",
       "      <td>0</td>\n",
       "      <td>0</td>\n",
       "      <td>0</td>\n",
       "      <td>0</td>\n",
       "      <td>1</td>\n",
       "      <td>13</td>\n",
       "      <td>16</td>\n",
       "      <td>1</td>\n",
       "      <td>0</td>\n",
       "      <td>1</td>\n",
       "    </tr>\n",
       "    <tr>\n",
       "      <th>2</th>\n",
       "      <td>0</td>\n",
       "      <td>0</td>\n",
       "      <td>0</td>\n",
       "      <td>2</td>\n",
       "      <td>16</td>\n",
       "      <td>16</td>\n",
       "      <td>2</td>\n",
       "      <td>0</td>\n",
       "      <td>0</td>\n",
       "      <td>0</td>\n",
       "      <td>...</td>\n",
       "      <td>0</td>\n",
       "      <td>0</td>\n",
       "      <td>0</td>\n",
       "      <td>0</td>\n",
       "      <td>2</td>\n",
       "      <td>12</td>\n",
       "      <td>15</td>\n",
       "      <td>4</td>\n",
       "      <td>0</td>\n",
       "      <td>1</td>\n",
       "    </tr>\n",
       "    <tr>\n",
       "      <th>3</th>\n",
       "      <td>0</td>\n",
       "      <td>0</td>\n",
       "      <td>0</td>\n",
       "      <td>0</td>\n",
       "      <td>12</td>\n",
       "      <td>5</td>\n",
       "      <td>0</td>\n",
       "      <td>0</td>\n",
       "      <td>0</td>\n",
       "      <td>0</td>\n",
       "      <td>...</td>\n",
       "      <td>0</td>\n",
       "      <td>0</td>\n",
       "      <td>0</td>\n",
       "      <td>0</td>\n",
       "      <td>3</td>\n",
       "      <td>16</td>\n",
       "      <td>8</td>\n",
       "      <td>0</td>\n",
       "      <td>0</td>\n",
       "      <td>1</td>\n",
       "    </tr>\n",
       "    <tr>\n",
       "      <th>4</th>\n",
       "      <td>0</td>\n",
       "      <td>0</td>\n",
       "      <td>0</td>\n",
       "      <td>1</td>\n",
       "      <td>11</td>\n",
       "      <td>9</td>\n",
       "      <td>0</td>\n",
       "      <td>0</td>\n",
       "      <td>0</td>\n",
       "      <td>0</td>\n",
       "      <td>...</td>\n",
       "      <td>0</td>\n",
       "      <td>0</td>\n",
       "      <td>0</td>\n",
       "      <td>0</td>\n",
       "      <td>2</td>\n",
       "      <td>14</td>\n",
       "      <td>6</td>\n",
       "      <td>0</td>\n",
       "      <td>0</td>\n",
       "      <td>1</td>\n",
       "    </tr>\n",
       "  </tbody>\n",
       "</table>\n",
       "<p>5 rows × 65 columns</p>\n",
       "</div>"
      ],
      "text/plain": [
       "   0   1   2   3   4   5   6   7   8   9  ...  55  56  57  58  59  60  61  62  \\\n",
       "0   0   0   0  12  13   5   0   0   0   0 ...   0   0   0   0  11  16  10   0   \n",
       "1   0   0   0   0  14  13   1   0   0   0 ...   0   0   0   0   1  13  16   1   \n",
       "2   0   0   0   2  16  16   2   0   0   0 ...   0   0   0   0   2  12  15   4   \n",
       "3   0   0   0   0  12   5   0   0   0   0 ...   0   0   0   0   3  16   8   0   \n",
       "4   0   0   0   1  11   9   0   0   0   0 ...   0   0   0   0   2  14   6   0   \n",
       "\n",
       "   63  64  \n",
       "0   0   1  \n",
       "1   0   1  \n",
       "2   0   1  \n",
       "3   0   1  \n",
       "4   0   1  \n",
       "\n",
       "[5 rows x 65 columns]"
      ]
     },
     "execution_count": 10,
     "metadata": {},
     "output_type": "execute_result"
    }
   ],
   "source": [
    "import pandas as pd\n",
    "import numpy as np\n",
    "import matplotlib.pyplot as plt\n",
    "\n",
    "# Read the csv file with pandas\n",
    "Digits = pd.read_csv('digits123.csv', sep=\",\", header=None)\n",
    "\n",
    "Digits.head()"
   ]
  },
  {
   "cell_type": "markdown",
   "metadata": {},
   "source": [
    "2) Gradient calculating and parameter updating"
   ]
  },
  {
   "cell_type": "code",
   "execution_count": 41,
   "metadata": {
    "collapsed": false
   },
   "outputs": [],
   "source": [
    "# uses the sigmoid function to calculate the hypothesis\n",
    "def hypothesis(theta, xVector):\n",
    "#     print('hypo')\n",
    "#     print(1.0/(1.0+math.e **(-np.dot(theta,xVector))))\n",
    "    return 1.0/(1.0+math.e **(-np.dot(theta,xVector)))\n",
    "\n",
    "# Gradient function for the logistic regression\n",
    "def gradientLog(theta,xMatrix,yVector, thetaIndex):\n",
    "    gradient = (1.0/(1+math.e **(np.dot(theta,xMatrix))))-yVector\n",
    "    gradient = np.dot(gradient,xMatrix[thetaIndex])\n",
    "    return gradient/len(yVector)\n",
    "    \n",
    "# Update the theta vector for logistic regression\n",
    "def updateLog(alpha, theta, xMatrix, yVector):\n",
    "    tempTheta = [None]*len(theta)\n",
    "    for i in range(len(theta)):\n",
    "        tempTheta[i] = theta[i] - alpha * gradientLog(theta,xMatrix,yVector,i)\n",
    "    return tempTheta\n"
   ]
  },
  {
   "cell_type": "markdown",
   "metadata": {},
   "source": [
    "3) Cost function"
   ]
  },
  {
   "cell_type": "code",
   "execution_count": 12,
   "metadata": {
    "collapsed": true
   },
   "outputs": [],
   "source": [
    "# Calculate the cost for a logistic regrssion function\n",
    "def costLogFunction(theta, xMatrix, yVector):\n",
    "    costSum = 0.0\n",
    "    for i in range(len(yVector)):\n",
    "        if yVector[i]:\n",
    "            costSum += math.log(hypothesis(theta,xMatrix[i]))\n",
    "        else:\n",
    "            costSum += math.log(1-hypothesis(theta,xMatrix[i]))\n",
    "            # dit geeft log(0) omdat hypothesis altijd 1 returned\n",
    "            # dat mag niet\n",
    "    return -(costSum/len(yVector))\n",
    "    "
   ]
  },
  {
   "cell_type": "markdown",
   "metadata": {},
   "source": [
    "4) Pairwise comparison of classess"
   ]
  },
  {
   "cell_type": "code",
   "execution_count": 17,
   "metadata": {
    "collapsed": false
   },
   "outputs": [],
   "source": [
    "\n",
    "# split y and multiply theta when multi-class classifying\n",
    "def splitClasses(theta, yVector):\n",
    "    classes = list(set(yVector))\n",
    "    if len(classes) <=2 and 0 in classes:\n",
    "        return theta, yVector\n",
    "    else:\n",
    "        # split y in het aantal klasses\n",
    "        yMatrix = np.zeros((len(yVector),len(classes)))\n",
    "        thetaMatrix = np.zeros((len(classes),len(theta)))\n",
    "        for i in range(len(classes)):\n",
    "            for j in range(len(yVector)):\n",
    "                if yVector[j] == classes[i]:\n",
    "                    yMatrix[j][i] = 1\n",
    "                else:\n",
    "                    yMatrix[j][i] = 0\n",
    "            thetaMatrix[i] = theta\n",
    "        yMatrix = yMatrix.T\n",
    "        return thetaMatrix, yMatrix\n",
    "            "
   ]
  },
  {
   "cell_type": "markdown",
   "metadata": {},
   "source": [
    "5) Optimization learning rate and iterations"
   ]
  },
  {
   "cell_type": "code",
   "execution_count": 64,
   "metadata": {
    "collapsed": false
   },
   "outputs": [
    {
     "name": "stdout",
     "output_type": "stream",
     "text": [
      "Old costs:  [[0.6983514473972593, 0.6986191595743809, 0.6985090119729033]]\n"
     ]
    },
    {
     "data": {
      "image/png": "[encoded data removed]",
      "text/plain": [
       "<matplotlib.figure.Figure at 0x7f9caca5b2d0>"
      ]
     },
     "metadata": {},
     "output_type": "display_data"
    }
   ],
   "source": [
    "def logreg():\n",
    "\n",
    "    alpha = 0.00001\n",
    "    iterations = 120\n",
    "    yVector = Digits[Digits.columns[-1]]\n",
    "    xMatrix = np.ones((Digits.columns[-1]+1,len(yVector)))\n",
    "    theta = np.ones((Digits.columns[-1]+1))*0.0001\n",
    "    for i in range(1,Digits.columns[-1]):\n",
    "        xMatrix[i] = Digits[i]\n",
    "        \n",
    "    thetaMatrix, yMatrix = splitClasses(theta, yVector)\n",
    "    \n",
    "    costs = [[]]\n",
    "    for i in range(len(yMatrix)):\n",
    "        costs[0].append(costLogFunction(thetaMatrix[i], xMatrix.T, yMatrix[i]))\n",
    "    print \"Old costs: \", costs\n",
    "    \n",
    "    for i in range(iterations):\n",
    "        costs.append([])\n",
    "        for j in range(len(yMatrix)):\n",
    "            thetaMatrix[j] = updateLog(alpha, thetaMatrix[j], xMatrix, yMatrix[j])\n",
    "            costs[i+1].append(costLogFunction(thetaMatrix[j], xMatrix.T, yMatrix[j]))\n",
    "    \n",
    "    costs = np.array(costs).T\n",
    "    x = np.arange(0,len(costs[0]))\n",
    "    \n",
    "    plt.plot(x,costs[0])\n",
    "    plt.plot(x,costs[1], 'r')\n",
    "    plt.plot(x,costs[2], 'g')\n",
    "    plt.show()\n",
    "    \n",
    "logreg()"
   ]
  },
  {
   "cell_type": "markdown",
   "metadata": {},
   "source": [
    "**Discussion:**\n",
    "\n",
    "The starting value of theta had to be scaled down. Otherwise theta times X would give a too large number resulting in e^-TX becoming close to zero and making the hypothesis function round to 1. This gives an error later on in the cost function. Theta was scaled down by a factor of 1000 to preven this.\n",
    "\n",
    "Plotting several results show that 120 iterations with an alpha of 0.00001 gives a nice convergence to an optimal set of parameters.\n",
    "\n",
    "\n",
    "-----------------------------------"
   ]
  }
 ],
 "metadata": {
  "anaconda-cloud": {},
  "kernelspec": {
   "display_name": "Python [default]",
   "language": "python",
   "name": "python2"
  },
  "language_info": {
   "codemirror_mode": {
    "name": "ipython",
    "version": 2
   },
   "file_extension": ".py",
   "mimetype": "text/x-python",
   "name": "python",
   "nbconvert_exporter": "python",
   "pygments_lexer": "ipython2",
   "version": "2.7.12"
  }
 },
 "nbformat": 4,
 "nbformat_minor": 1
}
