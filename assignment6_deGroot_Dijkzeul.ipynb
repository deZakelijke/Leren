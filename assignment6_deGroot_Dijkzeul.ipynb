{
 "cells": [
  {
   "cell_type": "markdown",
   "metadata": {},
   "source": [
    "# Leren: Programming assignment 2\n",
    "** This assignment can be done in teams of 2 **\n",
    "\n",
    "**Student 1:**  <span style=\"color:red\">Name Lastname</span> (<span style=\"color:red\">student_id</span>)<br>\n",
    "**Student 2:** <span style=\"color:red\">Name Lastname</span> (<span style=\"color:red\">student_id</span>)<br>\n",
    "\n",
    "-----------------------------------\n",
    "This notebook provides a template for your programming assignment 2. You may want to use parts of your code from the previous assignment(s) as a starting point for this assignment. \n",
    "\n",
    "The code you hand-in should follow the structure from this document. Write down your functions in the cells they belong to. Note that the structure corresponds with the structure from the actual programming assignment. Make sure you read this for the full explanation of what is expected of you. \n",
    "\n",
    "**Submission:**\n",
    "\n",
    "* Make sure your code can be run from top to bottom without errors.\n",
    "* Include your data files in the zip file.\n",
    "* Comment your code\n",
    "\n",
    "One way be sure you code can be run without errors is by quiting iPython completely and then restart iPython and run all cells again (you can do this by going to the menu bar above: Cell > Run all). This way you make sure that no old definitions of functions or values of variables are left (that your program might still be using).\n",
    "\n",
    "-----------------------------------\n",
    "\n",
    "If you have any questions ask your teaching assistent. We are here for you.\n",
    "\n",
    "-----------------------------------"
   ]
  },
  {
   "cell_type": "markdown",
   "metadata": {},
   "source": [
    "### 1) k-means"
   ]
  },
  {
   "cell_type": "code",
   "execution_count": 11,
   "metadata": {
    "collapsed": false
   },
   "outputs": [
    {
     "data": {
      "text/plain": [
       "0"
      ]
     },
     "execution_count": 11,
     "metadata": {},
     "output_type": "execute_result"
    }
   ],
   "source": [
    "# k-means clustering\n",
    "\n",
    "import numpy as np\n",
    "import pandas as pd\n",
    "import math\n",
    "import matplotlib as plt\n",
    "import random\n",
    "\n",
    "\n",
    "def initializeClusters(Data, k):\n",
    "    clusters = []\n",
    "    vectorRange = np.shape(Data)[1]\n",
    "    for i in range(k):\n",
    "        index = random.randrange(vectorRange)\n",
    "        newCluster = Data[:,index]\n",
    "        clusters.append(newCluster)\n",
    "        \n",
    "    return clusters\n",
    "    \n",
    "    \n",
    "def updateMeans(clusteredData, clusterMeans, k):\n",
    "    for i in range(k):\n",
    "        i=i\n",
    "    return 0\n",
    "\n",
    "\n",
    "def clusterData(Data, clusterMeans, k):\n",
    "    return 0 \n",
    "    \n",
    "    \n",
    "def costFunction(clusteredData, clusterMeans, k):\n",
    "    return 0\n",
    "    \n",
    "    \n",
    "def kMeansClustering(Data, k, iterations):\n",
    "    clusters = initializeClusters(Data, k)\n",
    "    clusteredData = clusterData(Data, clusters, k)\n",
    "    oldCost = costFunction(clusteredData, clusters, k)\n",
    "    for i in range(iterations):\n",
    "        clusters = updateMeans(clusteredData, clusters, k)\n",
    "        clusteredData = clusterData(Data, clusters, k)\n",
    "    newCost = costFunction(clusteredData, clusters, k)\n",
    "    return 0\n",
    "    \n",
    "    \n",
    "digitsTrain = pd.read_csv('digist123-1.csv', sep=\";\", header=None)\n",
    "digitsTest = pd.read_csv('digist123-2.csv', sep=\";\", header=None)\n",
    "\n",
    "digitsTrain =np.array(digitsTrain)[:,0:-1]\n",
    "\n",
    "k = 3\n",
    "iterations = 10\n",
    "kMeansClustering(digitsTrain, k, iterations)"
   ]
  }
 ],
 "metadata": {
  "anaconda-cloud": {},
  "kernelspec": {
   "display_name": "Python [conda root]",
   "language": "python",
   "name": "conda-root-py"
  },
  "language_info": {
   "codemirror_mode": {
    "name": "ipython",
    "version": 2
   },
   "file_extension": ".py",
   "mimetype": "text/x-python",
   "name": "python",
   "nbconvert_exporter": "python",
   "pygments_lexer": "ipython2",
   "version": "2.7.12"
  }
 },
 "nbformat": 4,
 "nbformat_minor": 1
}
